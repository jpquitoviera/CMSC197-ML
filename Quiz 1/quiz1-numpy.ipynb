{
 "cells": [
  {
   "cell_type": "markdown",
   "id": "d7211d52",
   "metadata": {},
   "source": [
    "<h2>CMSC 197 Quiz 1</h2>\n",
    "\n",
    "<h4>Johanna Marie P. Quitoviera</h4>"
   ]
  },
  {
   "cell_type": "code",
   "execution_count": 13,
   "id": "732e43b6",
   "metadata": {},
   "outputs": [
    {
     "name": "stdout",
     "output_type": "stream",
     "text": [
      "Populating the interactive namespace from numpy and matplotlib\n"
     ]
    }
   ],
   "source": [
    "%pylab inline"
   ]
  },
  {
   "cell_type": "markdown",
   "id": "7c04062a",
   "metadata": {},
   "source": [
    "<h3>Part 1</h3>"
   ]
  },
  {
   "cell_type": "markdown",
   "id": "c6f6b510",
   "metadata": {},
   "source": [
    "Create 2 1D arrays, y_hat and y"
   ]
  },
  {
   "cell_type": "markdown",
   "id": "b4be068e",
   "metadata": {},
   "source": [
    "Initialize y_hat with 20 linearly spaced numbers between -1 and 1"
   ]
  },
  {
   "cell_type": "code",
   "execution_count": 23,
   "id": "e5fe07ef",
   "metadata": {},
   "outputs": [
    {
     "data": {
      "text/plain": [
       "array([-1.        , -0.89473684, -0.78947368, -0.68421053, -0.57894737,\n",
       "       -0.47368421, -0.36842105, -0.26315789, -0.15789474, -0.05263158,\n",
       "        0.05263158,  0.15789474,  0.26315789,  0.36842105,  0.47368421,\n",
       "        0.57894737,  0.68421053,  0.78947368,  0.89473684,  1.        ])"
      ]
     },
     "execution_count": 23,
     "metadata": {},
     "output_type": "execute_result"
    }
   ],
   "source": [
    "y_hat = np.linspace(-1,1,20)\n",
    "y_hat"
   ]
  },
  {
   "cell_type": "markdown",
   "id": "0291cd88",
   "metadata": {},
   "source": [
    "Initialize y with 20 linearly spaced numbers between 0 and 1"
   ]
  },
  {
   "cell_type": "code",
   "execution_count": 25,
   "id": "32a74c4e",
   "metadata": {},
   "outputs": [
    {
     "data": {
      "text/plain": [
       "array([0.        , 0.05263158, 0.10526316, 0.15789474, 0.21052632,\n",
       "       0.26315789, 0.31578947, 0.36842105, 0.42105263, 0.47368421,\n",
       "       0.52631579, 0.57894737, 0.63157895, 0.68421053, 0.73684211,\n",
       "       0.78947368, 0.84210526, 0.89473684, 0.94736842, 1.        ])"
      ]
     },
     "execution_count": 25,
     "metadata": {},
     "output_type": "execute_result"
    }
   ],
   "source": [
    "y = np.linspace(0,1,20)\n",
    "y"
   ]
  },
  {
   "cell_type": "markdown",
   "id": "7374a3f9",
   "metadata": {},
   "source": [
    "Compute for the shape and dimension of y_hat and y."
   ]
  },
  {
   "cell_type": "code",
   "execution_count": 26,
   "id": "87d95999",
   "metadata": {},
   "outputs": [
    {
     "data": {
      "text/plain": [
       "(20,)"
      ]
     },
     "execution_count": 26,
     "metadata": {},
     "output_type": "execute_result"
    }
   ],
   "source": [
    "#shape of y_hat\n",
    "y_hat.shape"
   ]
  },
  {
   "cell_type": "code",
   "execution_count": 28,
   "id": "fc304539",
   "metadata": {},
   "outputs": [
    {
     "data": {
      "text/plain": [
       "1"
      ]
     },
     "execution_count": 28,
     "metadata": {},
     "output_type": "execute_result"
    }
   ],
   "source": [
    "#dimension of y_hat\n",
    "y_hat.ndim"
   ]
  },
  {
   "cell_type": "code",
   "execution_count": 29,
   "id": "04419dfc",
   "metadata": {},
   "outputs": [
    {
     "data": {
      "text/plain": [
       "(20,)"
      ]
     },
     "execution_count": 29,
     "metadata": {},
     "output_type": "execute_result"
    }
   ],
   "source": [
    "#shape of y\n",
    "y.shape"
   ]
  },
  {
   "cell_type": "code",
   "execution_count": 30,
   "id": "c0133402",
   "metadata": {},
   "outputs": [
    {
     "data": {
      "text/plain": [
       "1"
      ]
     },
     "execution_count": 30,
     "metadata": {},
     "output_type": "execute_result"
    }
   ],
   "source": [
    "#dimension of y\n",
    "y.ndim"
   ]
  },
  {
   "cell_type": "markdown",
   "id": "02834036",
   "metadata": {},
   "source": [
    "Create individual functions for each of the loss functions with y and y_hat as parameters"
   ]
  },
  {
   "cell_type": "markdown",
   "id": "813b9d2c",
   "metadata": {},
   "source": [
    "Each function should return the loss value (L)"
   ]
  },
  {
   "cell_type": "markdown",
   "id": "f8d36465",
   "metadata": {},
   "source": [
    "<h4>Mean Squared Error</h4>"
   ]
  },
  {
   "cell_type": "code",
   "execution_count": 38,
   "id": "c73193d1",
   "metadata": {},
   "outputs": [
    {
     "data": {
      "text/plain": [
       "0.3421052631578948"
      ]
     },
     "execution_count": 38,
     "metadata": {},
     "output_type": "execute_result"
    }
   ],
   "source": [
    "def mse(y_hat, y):\n",
    "    return np.mean(np.square(np.subtract(y_hat,y)))\n",
    "\n",
    "mse(y_hat, y)"
   ]
  },
  {
   "cell_type": "markdown",
   "id": "0247053b",
   "metadata": {},
   "source": [
    "<h4>Mean Absolute Error</h4>"
   ]
  },
  {
   "cell_type": "code",
   "execution_count": 37,
   "id": "647d3621",
   "metadata": {},
   "outputs": [
    {
     "data": {
      "text/plain": [
       "0.4999999999999999"
      ]
     },
     "execution_count": 37,
     "metadata": {},
     "output_type": "execute_result"
    }
   ],
   "source": [
    "def mae(y_hat, y):\n",
    "    return np.mean(np.abs(np.subtract(y_hat,y)))\n",
    "\n",
    "mae(y_hat, y)"
   ]
  },
  {
   "cell_type": "markdown",
   "id": "9400f67d",
   "metadata": {},
   "source": [
    "<h4>Mean Squared Logarithmic Error</h4>"
   ]
  },
  {
   "cell_type": "code",
   "execution_count": 46,
   "id": "f64d23e2",
   "metadata": {},
   "outputs": [
    {
     "name": "stderr",
     "output_type": "stream",
     "text": [
      "C:\\Users\\Admin\\AppData\\Local\\Temp/ipykernel_13588/1185953933.py:2: RuntimeWarning: divide by zero encountered in log\n",
      "  return np.mean(np.square(np.subtract(np.log(np.add(y_hat,1)),np.log(np.add(y,1)))))\n"
     ]
    },
    {
     "data": {
      "text/plain": [
       "inf"
      ]
     },
     "execution_count": 46,
     "metadata": {},
     "output_type": "execute_result"
    }
   ],
   "source": [
    "def msle(y_hat, y):\n",
    "    return np.mean(np.square(np.subtract(np.log(np.add(y_hat,1)),np.log(np.add(y,1)))))\n",
    "\n",
    "msle(y_hat, y)"
   ]
  },
  {
   "cell_type": "markdown",
   "id": "51809ccc",
   "metadata": {},
   "source": [
    "<h4>Mean Absolute Percentage Error</h4>"
   ]
  },
  {
   "cell_type": "code",
   "execution_count": 51,
   "id": "93886524",
   "metadata": {},
   "outputs": [
    {
     "name": "stderr",
     "output_type": "stream",
     "text": [
      "C:\\Users\\Admin\\AppData\\Local\\Temp/ipykernel_13588/170411890.py:2: RuntimeWarning: divide by zero encountered in true_divide\n",
      "  return np.mean(np.abs(np.divide(np.subtract(y_hat,y),y)))*100\n"
     ]
    },
    {
     "data": {
      "text/plain": [
       "inf"
      ]
     },
     "execution_count": 51,
     "metadata": {},
     "output_type": "execute_result"
    }
   ],
   "source": [
    "def mape(y_hat, y):\n",
    "    return np.mean(np.abs(np.divide(np.subtract(y_hat,y),y)))*100\n",
    "\n",
    "mape(y_hat, y)"
   ]
  },
  {
   "cell_type": "markdown",
   "id": "d7c0d5ab",
   "metadata": {},
   "source": [
    "<h3>Part 2</h3>"
   ]
  },
  {
   "cell_type": "markdown",
   "id": "bc217a40",
   "metadata": {},
   "source": [
    "Create a 1d array M {1, 2, …16} using the arange function"
   ]
  },
  {
   "cell_type": "code",
   "execution_count": 9,
   "id": "183d26b5",
   "metadata": {},
   "outputs": [
    {
     "data": {
      "text/plain": [
       "array([ 1,  2,  3,  4,  5,  6,  7,  8,  9, 10, 11, 12, 13, 14, 15, 16])"
      ]
     },
     "execution_count": 9,
     "metadata": {},
     "output_type": "execute_result"
    }
   ],
   "source": [
    "M = np.arange(1,17)\n",
    "M"
   ]
  },
  {
   "cell_type": "markdown",
   "id": "bc05de0b",
   "metadata": {},
   "source": [
    "Reshape M into 4x4 array and store it to N"
   ]
  },
  {
   "cell_type": "code",
   "execution_count": 10,
   "id": "7b890f57",
   "metadata": {},
   "outputs": [
    {
     "data": {
      "text/plain": [
       "array([[ 1,  2,  3,  4],\n",
       "       [ 5,  6,  7,  8],\n",
       "       [ 9, 10, 11, 12],\n",
       "       [13, 14, 15, 16]])"
      ]
     },
     "execution_count": 10,
     "metadata": {},
     "output_type": "execute_result"
    }
   ],
   "source": [
    "N = M.reshape(4, 4)\n",
    "N"
   ]
  },
  {
   "cell_type": "markdown",
   "id": "afb66fa3",
   "metadata": {},
   "source": [
    "Get the 2nd row of N"
   ]
  },
  {
   "cell_type": "code",
   "execution_count": 11,
   "id": "fc52ad39",
   "metadata": {},
   "outputs": [
    {
     "data": {
      "text/plain": [
       "array([5, 6, 7, 8])"
      ]
     },
     "execution_count": 11,
     "metadata": {},
     "output_type": "execute_result"
    }
   ],
   "source": [
    "N[1]"
   ]
  },
  {
   "cell_type": "markdown",
   "id": "50ebf032",
   "metadata": {},
   "source": [
    "Get the minimum values for each column of N"
   ]
  },
  {
   "cell_type": "code",
   "execution_count": 12,
   "id": "f4821185",
   "metadata": {},
   "outputs": [
    {
     "data": {
      "text/plain": [
       "array([1, 2, 3, 4])"
      ]
     },
     "execution_count": 12,
     "metadata": {},
     "output_type": "execute_result"
    }
   ],
   "source": [
    "numpy.amin(N,axis=0)"
   ]
  },
  {
   "cell_type": "markdown",
   "id": "3b5836f2",
   "metadata": {},
   "source": [
    "Get the locations of the minimum values for each column of N"
   ]
  },
  {
   "cell_type": "code",
   "execution_count": 21,
   "id": "a6b657ad",
   "metadata": {},
   "outputs": [
    {
     "data": {
      "text/plain": [
       "[(0, 0), (0, 1), (0, 2), (0, 3)]"
      ]
     },
     "execution_count": 21,
     "metadata": {},
     "output_type": "execute_result"
    }
   ],
   "source": [
    "#get the indices of the minimum values from the 2D array N\n",
    "loc = numpy.where(N == numpy.amin(N,axis=0))\n",
    "\n",
    "#gather the coordinates of the minimum values\n",
    "locList=list(zip(loc[0],loc[1]))\n",
    "locList"
   ]
  },
  {
   "cell_type": "markdown",
   "id": "120a7cb1",
   "metadata": {},
   "source": [
    "Get the average of the whole matrix"
   ]
  },
  {
   "cell_type": "code",
   "execution_count": 14,
   "id": "0324427e",
   "metadata": {},
   "outputs": [
    {
     "data": {
      "text/plain": [
       "8.5"
      ]
     },
     "execution_count": 14,
     "metadata": {},
     "output_type": "execute_result"
    }
   ],
   "source": [
    "numpy.average(N, axis=None)"
   ]
  },
  {
   "cell_type": "markdown",
   "id": "2c9d40de",
   "metadata": {},
   "source": [
    "Create a vector V with 4 elements, each element is 1"
   ]
  },
  {
   "cell_type": "code",
   "execution_count": 15,
   "id": "3a021cb8",
   "metadata": {},
   "outputs": [
    {
     "data": {
      "text/plain": [
       "array([1, 1, 1, 1])"
      ]
     },
     "execution_count": 15,
     "metadata": {},
     "output_type": "execute_result"
    }
   ],
   "source": [
    "V = np.ones(4, dtype=int)\n",
    "V"
   ]
  },
  {
   "cell_type": "markdown",
   "id": "85f9d113",
   "metadata": {},
   "source": [
    "Take the dot product of N and V"
   ]
  },
  {
   "cell_type": "code",
   "execution_count": 16,
   "id": "56b68f14",
   "metadata": {},
   "outputs": [
    {
     "data": {
      "text/plain": [
       "array([10, 26, 42, 58])"
      ]
     },
     "execution_count": 16,
     "metadata": {},
     "output_type": "execute_result"
    }
   ],
   "source": [
    "np.dot(N,V)"
   ]
  }
 ],
 "metadata": {
  "kernelspec": {
   "display_name": "Python 3 (ipykernel)",
   "language": "python",
   "name": "python3"
  },
  "language_info": {
   "codemirror_mode": {
    "name": "ipython",
    "version": 3
   },
   "file_extension": ".py",
   "mimetype": "text/x-python",
   "name": "python",
   "nbconvert_exporter": "python",
   "pygments_lexer": "ipython3",
   "version": "3.9.7"
  }
 },
 "nbformat": 4,
 "nbformat_minor": 5
}
